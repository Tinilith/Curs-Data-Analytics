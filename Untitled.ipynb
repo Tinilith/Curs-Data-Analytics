{
 "cells": [
  {
   "cell_type": "code",
   "execution_count": null,
   "id": "47b5b5be-db0c-4b89-a610-67aa5c756559",
   "metadata": {},
   "outputs": [],
   "source": [
    "\n",
    "import pandas as pd\n",
    "import matplotlib.pyplot as plt\n",
    "import seaborn as sns\n",
    "from sqlalchemy import create_engine\n",
    "from sqlalchemy.orm import sessionmaker\n",
    "\n",
    "# Vamos a crear la conexión:\n",
    "# Parámetros de conexión\n",
    "username = 'root'\n",
    "password = 'Erethiel00.'\n",
    "hostname = 'localhost'\n",
    "database = 'transactionsv2'\n",
    "\n",
    "conexion = f'mysql+pymysql://{username}:{password}@{hostname}/{database}'\n",
    "# Crear el motor de la base de datos\n",
    "engine = create_engine(conexion)\n",
    "\n",
    "\n",
    "# Para almacenar las tablas en data frames, primero necesitaremos el nombre de las tablas:\n",
    "tabla_nombres= pd.read_sql('show tables',engine)\n",
    "tabla_nombres\n",
    "\n",
    "# Utilizamos un bucle para lamacenar las tablas en data frames y crear variables globales:\n",
    "for nombres in tabla_nombres['Tables_in_transactionsv2']:\n",
    "    print(nombres)\n",
    "    query= f\"SELECT * FROM {nombres}\"\n",
    "    df= pd.read_sql(query,engine)\n",
    "    globals()[f'df_{nombres}']=df\n",
    "    \n",
    "engine.dispose()\n"
   ]
  }
 ],
 "metadata": {
  "kernelspec": {
   "display_name": "Python 3 (ipykernel)",
   "language": "python",
   "name": "python3"
  },
  "language_info": {
   "codemirror_mode": {
    "name": "ipython",
    "version": 3
   },
   "file_extension": ".py",
   "mimetype": "text/x-python",
   "name": "python",
   "nbconvert_exporter": "python",
   "pygments_lexer": "ipython3",
   "version": "3.12.4"
  }
 },
 "nbformat": 4,
 "nbformat_minor": 5
}
