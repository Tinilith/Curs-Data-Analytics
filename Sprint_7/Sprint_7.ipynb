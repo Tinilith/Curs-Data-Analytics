{
 "cells": [
  {
   "cell_type": "markdown",
   "metadata": {},
   "source": [
    "# Exercici 1\n",
    "Calculadora de l'índex de massa corporal\n",
    "\n",
    "- Escriu una funció que calculi l'IMC ingressat per l'usuari/ària, és a dir, qui ho executi haurà d'ingressar aquestes dades. Pots obtenir més informació del seu càlcul en:\n",
    "- La funció ha de classificar el resultat en les seves respectives categories"
   ]
  },
  {
   "cell_type": "code",
   "execution_count": 9,
   "metadata": {},
   "outputs": [
    {
     "name": "stdout",
     "output_type": "stream",
     "text": [
      "El teu índex de massa corporal és: 27.34\n",
      "Estàs en el grup de sobrepes\n"
     ]
    }
   ],
   "source": [
    "# Primer, demanem amb un input l'alçada i el pes de l'usuari, definim que sigui un float\n",
    "altura = float(input(\"Quina és la teva alçada en metres?\"))\n",
    "pes= float(input(\"Quin és el teu pes?\"))\n",
    "\n",
    "# Calculem l'índex de massa corporal i l'arrodonim a 2 decimals\n",
    "imc=round(pes/(altura**2),2)\n",
    "\n",
    "# Mostrem el imc\n",
    "print(f\"El teu índex de massa corporal és: {imc}\")\n",
    "\n",
    "#Clasificació de l'IMC (D'aquesta manera si volem algun dia canviar aquest valors, només cladrà que fem des d'aquí)\n",
    "baix_pes =18.5\n",
    "pes_normal= 24.9\n",
    "sobrepes=29.9\n",
    "\n",
    "if imc <= baix_pes :\n",
    "    print(\"Estàs en el grup de baix pes\")\n",
    "elif imc <= pes_normal :\n",
    "    print(\"Estàs en el grup de pes normal\")\n",
    "elif imc <= sobrepes :\n",
    "    print(\"Estàs en el grup de sobrepes\")\n",
    "else:\n",
    "    print(\"Estàs en el grup d'obesitat\")"
   ]
  },
  {
   "cell_type": "markdown",
   "metadata": {},
   "source": [
    "# Exercici 2\n",
    "Convertidor de temperatures.\n",
    "\n",
    "Existeixen diverses unitats de temperatura utilitzades en diferents contextos i regions. Les més comunes són Celsius (°C), Fahrenheit (°F) i Kelvin (K). També existeixen altres unitats com Rankine (°Ra) i Réaumur (°Re). Selecciona almenys 2 conversors, de tal manera que en introduir una temperatura retorni, com a mínim, dues conversions."
   ]
  },
  {
   "cell_type": "code",
   "execution_count": 14,
   "metadata": {},
   "outputs": [
    {
     "name": "stdout",
     "output_type": "stream",
     "text": [
      "65.32ºC equival a 149.58ºF i 338.47ºK\n"
     ]
    }
   ],
   "source": [
    "# Primer, definim les funcions de conversió:\n",
    "def celsius_farenheit(celsius):\n",
    "    return round((celsius * 9/5) + 32 , 2)\n",
    "def celsius_kelvin (celsius):\n",
    "    return round(celsius +273.15 , 2)\n",
    "\n",
    "def farenheit_celsius (farenheit):\n",
    "    return round((farenheit-32) * 5/9 , 2)\n",
    "\n",
    "def farenheit_kelvin (farenheit):\n",
    "    return round ((farenheit +459.67) *5/9 , 2)\n",
    "\n",
    "def kelvin_celsius (kelvin):\n",
    "    return round (kelvin - 273.15 , 2)\n",
    "\n",
    "def kelvin_farenheit (kelvin):\n",
    "    return round ((kelvin *9/5) - 459.67 , 2)\n",
    "\n",
    "#Demanem que l'usuari introdueixi quina temperatura vol transformar i en quina unitat està\n",
    "temperatura = float(input(\"Quina és la temperatura que vols transformar?\"))\n",
    "unitat= input(\"Introdueix la unitat (C, K, F): \"). upper() # upper transforma l'input a majúscules\n",
    "\n",
    "if unitat == \"C\":                                   #Si l'usuari introdueix la temperatura en Celsius, ho transformarà en farenheit i Kelvin\n",
    "    farenheit= celsius_farenheit(temperatura)\n",
    "    kelvin= celsius_kelvin(temperatura)\n",
    "    print(f\"{temperatura}ºC equival a {farenheit}ºF i {kelvin}ºK\")\n",
    "\n",
    "elif unitat == \"F\":                                 #Si l'usuari introdueix la temperatura en fareneheit, ho transformarà en celsius i Kelvin\n",
    "    celsius = farenheit_celsius(temperatura)\n",
    "    kelvin = farenheit_kelvin(temperatura)\n",
    "    print (f\"{temperatura}ºF equival a {celsius}ºC i {kelvin}ºK\")\n",
    "\n",
    "elif unitat == \"K\":                                 #Si l'usuari introdueix la temperatura en Ckelvin, ho transformarà en farenheit i celsius\n",
    "    celsius =kelvin_celsius(temperatura)\n",
    "    farenheit = kelvin_farenheit(temperatura)\n",
    "    print (f\"{temperatura}ºK equival a {celsius}ºC i {farenheit}ºF\")\n",
    "\n",
    "else:\n",
    "    print (\"Unitat no reconeguda. Si us plau, introdueix C,K o F\")      #si s'introudeix una lletra que no sigui c, k o F, donarà aquest missatge d'KeyError\n",
    "        \n",
    "    \n",
    "    "
   ]
  },
  {
   "cell_type": "markdown",
   "metadata": {},
   "source": [
    "# Exercici 3\n",
    "Comptador de paraules d'un text.\n",
    "\n",
    "Escriu una funció que donat un text, mostri les vegades que apareix cada paraula.\n",
    "\n"
   ]
  },
  {
   "cell_type": "code",
   "execution_count": 26,
   "metadata": {},
   "outputs": [
    {
     "name": "stdout",
     "output_type": "stream",
     "text": [
      "{'text=': 1, 'input(\"introdueix': 1, 'un': 1, 'text:': 1, '\").lower()': 1, '#el': 1, 'transformem': 1, 'a': 1, 'minuscules': 1, 'per': 1, 'no': 1, 'tenir': 1, 'problemes': 1, 'després': 1}\n"
     ]
    }
   ],
   "source": [
    "def contador_palabras(text):\n",
    "    \n",
    "    text=text.lower()\n",
    "\n",
    "#Hem de separar el text en paraules per transformar-ho en una llista de paraules. Per això existeix el mètode split\n",
    "    paraules = text.split()\n",
    "\n",
    "    contador={} # Creem un diccionari on introduirem les paraules i el nombre de vegades que apareixen\n",
    "\n",
    "    for paraula in paraules: \n",
    "        if paraula in contador:\n",
    "            contador[paraula]+=1\n",
    "        else:\n",
    "            contador[paraula]=1\n",
    "\n",
    "    return contador\n",
    "\n",
    "text=input(\"Introduce el texto:\")\n",
    "resultado= contador_palabras(text)\n",
    "print (resultado)\n",
    "\n",
    "\n"
   ]
  },
  {
   "cell_type": "markdown",
   "metadata": {},
   "source": [
    "En este ejercicio he decidido crear un input, donde el usuario puede agregar el texto del cual quiere contar las palabras. He decidido poner el método .lower() para que todo el texto se transforme a minúsculas y de este modo no haya interferencia con las mayúsculas.\n",
    "\n",
    "\n",
    "Después he usado el método .split() para que separe las palabras del texto y las ponga en una lista. Además, he creado un diccionario que sea capaz de almacenar cada palabra con el número de veces que aparece en el texto.\n",
    "\n",
    "Con el bucle conseguimos que el programa recorra cada palabra de la lista que creamos y la almacene en el diccionario “contador” y si la palabra existe en el contador, sume uno al contador, y si no, le pone un uno.\n",
    "\n",
    "Luego imprime el diccionario “contador” para mostrar cada palabra y el recuento de las veces que aparece.\n",
    "\n",
    "Podemos observar que los signos de puntación dan problemas. Por lo tanto, finalmente decidí eliminarlos cambiando un poco el código:\n"
   ]
  },
  {
   "cell_type": "code",
   "execution_count": 32,
   "metadata": {},
   "outputs": [
    {
     "name": "stdout",
     "output_type": "stream",
     "text": [
      "{'he': 1, 'usado': 1, 'resub': 1, 'esta': 1, 'expresión': 1, 'está': 1, 'buscando': 1, 'en': 2, 'el': 1, 'texto': 1, 'cualquier': 1, 'carácter': 2, 'que': 1, 'no': 1, 'sea': 1, 'letra': 1, 'número': 1, 'guión': 1, 'bajo': 1, 'o': 1, 'n': 1, 'de': 1, 'espacio': 2, 'blanco': 1, 'ws': 1, 'y': 1, 'lo': 1, 'substituye': 1, 'por': 1, 'un': 1}\n"
     ]
    }
   ],
   "source": [
    "import re\n",
    "\n",
    "def contador_palabras(text):\n",
    "    \n",
    "    text=text.lower()\n",
    "    text_sin_punt=re.sub(r'[^\\w\\s]', '',text)\n",
    "#Hem de separar el text en paraules per transformar-ho en una llista de paraules. Per això existeix el mètode split\n",
    "    paraules = text_sin_punt.split()\n",
    "#Hem de separar el text en paraules per transformar-ho en una llista de paraules. Per això existeix el mètode split\n",
    "    \n",
    "\n",
    "    contador={} # Creem un diccionari on introduirem les paraules i el nombre de vegades que apareixen\n",
    "\n",
    "    for paraula in paraules: \n",
    "        if paraula in contador:\n",
    "            contador[paraula]+=1\n",
    "        else:\n",
    "            contador[paraula]=1\n",
    "\n",
    "    return contador\n",
    "\n",
    "text=input(\"Introduce el texto:\")\n",
    "resultado= contador_palabras(text)\n",
    "print (resultado)\n",
    "\n",
    "\n",
    "\n",
    "\n"
   ]
  },
  {
   "cell_type": "markdown",
   "metadata": {},
   "source": [
    "He usado re.sub . Esta expresión está buscando en el texto cualquier carácter que no sea letra, número, guión bajo o n carácter de espacio en blanco \"[^\\w\\s]\" y lo substituye por un espacio.\n"
   ]
  },
  {
   "cell_type": "markdown",
   "metadata": {},
   "source": [
    "- Exercici 4\n",
    "Diccionari invers.\n",
    "\n",
    "Resulta que el client té una enquesta molt antiga que s'emmagatzema en un diccionari i els resultats els necessita al revés, és a dir, intercanviats les claus i els valors. Els valors i claus en el diccionari original són únics; si aquest no és el cas, la funció hauria d'imprimir un missatge d'advertiment."
   ]
  },
  {
   "cell_type": "code",
   "execution_count": null,
   "metadata": {},
   "outputs": [],
   "source": [
    "def diccionari_invertit:\n",
    "    "
   ]
  }
 ],
 "metadata": {
  "kernelspec": {
   "display_name": "Python 3",
   "language": "python",
   "name": "python3"
  },
  "language_info": {
   "codemirror_mode": {
    "name": "ipython",
    "version": 3
   },
   "file_extension": ".py",
   "mimetype": "text/x-python",
   "name": "python",
   "nbconvert_exporter": "python",
   "pygments_lexer": "ipython3",
   "version": "3.12.2"
  }
 },
 "nbformat": 4,
 "nbformat_minor": 2
}
