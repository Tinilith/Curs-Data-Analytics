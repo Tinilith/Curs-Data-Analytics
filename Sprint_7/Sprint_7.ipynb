{
 "cells": [
  {
   "cell_type": "markdown",
   "metadata": {},
   "source": [
    "# Nivell 1\n",
    "### Exercici 1\n",
    "Calculadora de l'índex de massa corporal\n",
    "\n",
    "- Escriu una funció que calculi l'IMC ingressat per l'usuari/ària, és a dir, qui ho executi haurà d'ingressar aquestes dades. Pots obtenir més informació del seu càlcul en:\n",
    "- La funció ha de classificar el resultat en les seves respectives categories"
   ]
  },
  {
   "cell_type": "code",
   "execution_count": 7,
   "metadata": {},
   "outputs": [
    {
     "name": "stdout",
     "output_type": "stream",
     "text": [
      "El teu índex de massa corporal és: 22.91\n",
      "Esas en el grupo de peso normal\n"
     ]
    }
   ],
   "source": [
    "def calcular_imc(altura, pes):      # Calculamos el índice de masa corporal i lo redondeamos\n",
    "    imc = round(pes / (altura ** 2), 2)\n",
    "    print(f\"El teu índex de massa corporal és: {imc}\")\n",
    "    \n",
    "    # Clasificación del IMC\n",
    "    peso_bajo = 18.5\n",
    "    peso_normal = 24.9\n",
    "    sobrepeso = 29.9\n",
    "\n",
    "    # Determinamos la categoria del IMC\n",
    "    if imc <= peso_bajo:\n",
    "        print(\"Estas en el grupo de peso bajo\")\n",
    "    elif imc <= peso_normal:\n",
    "        print(\"Esas en el grupo de peso normal\")\n",
    "    elif imc <= sobrepeso:\n",
    "        print(\"Estas en el grupo de sobrepeso\")\n",
    "    else:\n",
    "        print(\"Estas en el grupo de obesidad\")\n",
    "\n",
    "# Pedimos que el ususario intruduzca los datos:\n",
    "# Pedimos que el usuario introduzca los datos\n",
    "while True:\n",
    "    try:\n",
    "        altura = float(input(\"Quina és la teva alçada en metres (per exemple, 1.75)? \"))\n",
    "        if altura <= 0:\n",
    "            raise ValueError(\"L'alçada ha de ser un valor positiu.\")\n",
    "        break\n",
    "    except ValueError as e:\n",
    "        print(f\"Entrada no vàlida: {e}. Si us plau, introdueix un valor vàlid.\")\n",
    "\n",
    "while True:\n",
    "    try:\n",
    "        pes = float(input(\"Quin és el teu pes en kilograms (per exemple, 70.5)? \"))\n",
    "        if pes <= 0:\n",
    "            raise ValueError(\"El pes ha de ser un valor positiu.\")\n",
    "        break\n",
    "    except ValueError as e:\n",
    "        print(f\"Entrada no vàlida: {e}. Si us plau, introdueix un valor vàlid.\")\n",
    "\n",
    "\n",
    "# Llamamos a la función con los valores proporcionados\n",
    "\n",
    "calcular_imc(altura, pes)\n"
   ]
  },
  {
   "cell_type": "markdown",
   "metadata": {},
   "source": [
    "### Exercici 2\n",
    "Convertidor de temperatures.\n",
    "\n",
    "Existeixen diverses unitats de temperatura utilitzades en diferents contextos i regions. Les més comunes són Celsius (°C), Fahrenheit (°F) i Kelvin (K). També existeixen altres unitats com Rankine (°Ra) i Réaumur (°Re). Selecciona almenys 2 conversors, de tal manera que en introduir una temperatura retorni, com a mínim, dues conversions."
   ]
  },
  {
   "cell_type": "code",
   "execution_count": 9,
   "metadata": {},
   "outputs": [
    {
     "name": "stdout",
     "output_type": "stream",
     "text": [
      "Unitat no reconeguda. Si us plau, introdueix C, K o F\n",
      "Entrada no vàlida. Si us plau, introdueix un número per a la temperatura.\n",
      "62.0ºK equival a -348.07ºF\n"
     ]
    }
   ],
   "source": [
    "#Definim una funció que s'encarregarà de fer les conversions:\n",
    "def convertir_temperatura(temperatura, unitat_origen, unitat_destino): \n",
    "    if unitat_origen == \"C\":\n",
    "        if unitat_destino == \"F\":\n",
    "            return round((temperatura * 9/5) + 32, 2)\n",
    "        elif unitat_destino == \"K\":\n",
    "            return round(temperatura + 273.15, 2)\n",
    "    elif unitat_origen == \"F\":\n",
    "        if unitat_destino == \"C\":\n",
    "            return round((temperatura - 32) * 5/9, 2)\n",
    "        elif unitat_destino == \"K\":\n",
    "            return round((temperatura + 459.67) * 5/9, 2)\n",
    "    elif unitat_origen == \"K\":\n",
    "        if unitat_destino == \"C\":\n",
    "            return round(temperatura - 273.15, 2)\n",
    "        elif unitat_destino == \"F\":\n",
    "            return round((temperatura * 9/5) - 459.67, 2)\n",
    "    return None\n",
    "\n",
    "#Definim una fució que mmirarà si les unitats introduides estan per sobre del 0 absolut:\n",
    "def es_temperatura_valida(temperatura, unitat):\n",
    "    if unitat == \"C\" and temperatura >= -273.15:\n",
    "        return True\n",
    "    elif unitat == \"F\" and temperatura >= -459.67:\n",
    "        return True\n",
    "    elif unitat == \"K\" and temperatura >= 0:\n",
    "        return True\n",
    "    else:\n",
    "        return False\n",
    "\n",
    "while True:\n",
    "    try:\n",
    "        temperatura = float(input(\"Quina temperatura vols transformar? \")) #Demana la temperatura que es vol transformar\n",
    "        unitat_origen = input(\"Introdueix la unitat d'origen (C, K, F): \").upper() #Demana la unitat en la que es troba aquesta temperatura\n",
    "        \n",
    "        if unitat_origen not in [\"C\", \"K\", \"F\"]:  #comprova si la unitat que doa l'usuari és correcte\n",
    "            print(\"Unitat no reconeguda. Si us plau, introdueix C, K o F\")\n",
    "            continue\n",
    "\n",
    "        if not es_temperatura_valida(temperatura, unitat_origen): # Crida a la funció es_temperatura_valida para mirar si la temperatura introducida es correcta\n",
    "            print(\"Temperatura per sota del zero absolut. Si us plau, introdueix una temperatura vàlida.\")\n",
    "            continue\n",
    "\n",
    "        unitat_destino = input(\"A quina unitat vols convertir la temperatura (C, K, F)? \").upper() #Demana la unitat a la qual volem transformar\n",
    "        \n",
    "        if unitat_destino not in [\"C\", \"K\", \"F\"]: # Comprova si és correcte la unitat introduida\n",
    "            print(\"Unitat no reconeguda. Si us plau, introdueix C, K o F\")\n",
    "            continue\n",
    "        \n",
    "        resultat = convertir_temperatura(temperatura, unitat_origen, unitat_destino) #crida a la funció convertir_temperatura per transformar la temperatura\n",
    "        \n",
    "        if resultat is not None:\n",
    "            print(f\"{temperatura}º{unitat_origen} equival a {resultat}º{unitat_destino}\") #Si el resultat no és nul, retornarà el resultat demanat sino, enviarà un missatge\n",
    "        else:\n",
    "            print(\"Conversió no vàlida. Si us plau, revisa les unitats introduïdes.\")\n",
    "        \n",
    "        break\n",
    "\n",
    "    except ValueError:\n",
    "        print(\"Entrada no vàlida. Si us plau, introdueix un número per a la temperatura.\")\n"
   ]
  },
  {
   "cell_type": "markdown",
   "metadata": {},
   "source": [
    "### Exercici 3\n",
    "Comptador de paraules d'un text.\n",
    "\n",
    "Escriu una funció que donat un text, mostri les vegades que apareix cada paraula.\n",
    "\n"
   ]
  },
  {
   "cell_type": "code",
   "execution_count": 14,
   "metadata": {},
   "outputs": [
    {
     "name": "stdout",
     "output_type": "stream",
     "text": [
      "{'hola': 2, 'como': 1, 'estàs': 1, 'bien': 1, 'me': 1, 'alegro': 1, 'de': 1, 'verte': 1, 'no': 1, 'abstante': 1}\n"
     ]
    }
   ],
   "source": [
    "import re\n",
    "# Definim una funció per contar les paraules del text itroduit\n",
    "def contador_palabras(text):\n",
    "    text = text.lower() #Ho transformem tot a minúscules\n",
    "        \n",
    "    palabras = re.findall(r'\\b\\w+\\b', text) #Utilitzem re.findall per extreure les paraules evitant conflictes amb signes de puntuació\n",
    "    \n",
    "    \n",
    "    contador = {} #Creemn diccionari o guardarem les paraules i el número de vegades que apareixen\n",
    "    \n",
    "    for palabra in palabras:\n",
    "        if palabra in contador:\n",
    "            contador[palabra] += 1\n",
    "        else:\n",
    "            contador[palabra] = 1\n",
    "\n",
    "    return contador\n",
    "\n",
    "\n",
    "text = input(\"Introduce el texto: \") #Solicitem el text\n",
    "resultado = contador_palabras(text)\n",
    "\n",
    "print(resultado)# mostrem el resultat\n",
    "\n",
    "\n",
    "\n"
   ]
  },
  {
   "cell_type": "markdown",
   "metadata": {},
   "source": [
    "### Exercici 4\n",
    "Diccionari invers.\n",
    "\n",
    "Resulta que el client té una enquesta molt antiga que s'emmagatzema en un diccionari i els resultats els necessita al revés, és a dir, intercanviats les claus i els valors. Els valors i claus en el diccionari original són únics; si aquest no és el cas, la funció hauria d'imprimir un missatge d'advertiment."
   ]
  },
  {
   "cell_type": "code",
   "execution_count": 11,
   "metadata": {},
   "outputs": [
    {
     "name": "stdout",
     "output_type": "stream",
     "text": [
      "{1: 'a', 2: 'b', 3: 'c'}\n",
      "Error: Multiple keys for one value\n"
     ]
    }
   ],
   "source": [
    "def diccionari_invertit(d):\n",
    "    diccionari_entrada = {}\n",
    "    for key, value in d.items():\n",
    "        if value in diccionari_entrada: #Evaluamos si hay repeticiones\n",
    "            print(\"Error: Muchas claves para un valor\")\n",
    "            return None                 # Si no lo pongo después imprimirá el diccionario sin el valor duplicado\n",
    "        diccionari_entrada[value] = key #Intercambia los valores por las claves\n",
    "    return diccionari_entrada\n",
    "\n",
    "#Comprovamos que funciona:\n",
    "nou_dicc = {'a': 1, 'b': 2, 'c': 3}  \n",
    "result = diccionari_invertit(nou_dicc)\n",
    "print(result)\n",
    "\n",
    "# Con duplicados\n",
    "dicc_dupli = {\n",
    "    'a': 1,\n",
    "    'b': 2,\n",
    "    'c': 1\n",
    "    }\n",
    "result2 = diccionari_invertit(dicc_dupli)\n"
   ]
  },
  {
   "cell_type": "markdown",
   "metadata": {},
   "source": [
    "He definido una función que inicialmente evalua si hay valores no unicos. Y después intercambia los valores por las claves, de manera que obtenemos un diccionario invertido. \n",
    "en el caso de los diccionarios no es necesario comprovar si hay duplicados en las keys, puesto que el simple hecho de ser un diccionario, python no lo permitiria, se quedaria con el ultimo valor para la key duplicada (como se puede observar a continuación)"
   ]
  },
  {
   "cell_type": "code",
   "execution_count": 43,
   "metadata": {},
   "outputs": [
    {
     "name": "stdout",
     "output_type": "stream",
     "text": [
      "{'a': 1, 'b': 2, 'c': 5}\n"
     ]
    }
   ],
   "source": [
    "dicc ={'a': 1,\n",
    "       'b': 2,\n",
    "       'c':3,\n",
    "       'c':5}\n",
    "\n",
    "print(dicc)"
   ]
  },
  {
   "cell_type": "markdown",
   "metadata": {},
   "source": [
    "## Nivell 2 ##\n",
    "\n",
    "### Exercici 1 ###\n",
    "Diccionari invers amb duplicats\n",
    "\n",
    "Continuant amb l'exercici 4 del nivell 1: al client es va oblidar de comentar un detall i resulta que els valors en el diccionari original poden duplicar-se i més, per la qual cosa les claus intercanviades poden tenir duplicats. En aquest cas, en l'exercici anterior imprimies un missatge d'advertiment, ara, els valors del diccionari resultant hauran d'emmagatzemar-se com una llista. Tingues en compte que si és un valor únic no ha de ser una llista.\n",
    "\n"
   ]
  },
  {
   "cell_type": "code",
   "execution_count": 12,
   "metadata": {},
   "outputs": [
    {
     "name": "stdout",
     "output_type": "stream",
     "text": [
      "{'apple': 'x', 'banana': ['y', 'z', 'r']}\n"
     ]
    }
   ],
   "source": [
    "def diccionari_invertit2(d):\n",
    "    dicc_entrada = {}\n",
    "    for key, value in d.items(): \n",
    "        if value in dicc_entrada:  #miramos si hay valores duplicados\n",
    "            if isinstance(dicc_entrada[value],list): # miramos si los duplicados estan en listas\n",
    "                dicc_entrada[value].append(key)\n",
    "            else:\n",
    "                dicc_entrada[value] = [dicc_entrada[value],key] #si no estan en listas los convertimos en listas\n",
    "        else:\n",
    "            dicc_entrada[value] = key  #si no, simplemente intercambiamos el valor por la key\n",
    "    return dicc_entrada\n",
    "\n",
    "dic = {'x': 'apple', 'y': 'banana', 'z': 'banana', 'r':'banana'}\n",
    "print (diccionari_invertit2(dic))\n"
   ]
  },
  {
   "cell_type": "markdown",
   "metadata": {},
   "source": [
    "He definido una funcion que recorre el diccionario y evalua si hay duplicados, si los hay, evalua si estan stiados en listas, si no, lo transforma en lista. Y si no hay duplicados simplemente intercambia los valors por las keys, para invertir el diccionario. De modo que si hay valores duplicados , al transformarlos en key, estas estarána asociadas a dos valores guardados en una lista."
   ]
  },
  {
   "cell_type": "markdown",
   "metadata": {},
   "source": [
    "### Exercici 2\n",
    "Conversió de tipus de dades\n",
    "\n",
    "El client rep una llista de dades i necessita generar dues llistes, la primera on estaran tots els elements que es van poder convertir en flotants i l'altra on estan els elements que no es van poder convertir. Exemple de la llista que rep el client: [ '1.3', 'one' , '1e10' , 'seven', '3-1/2', ('2',1,1.4,'not-a-number'), [1,2,'3','3.4']]"
   ]
  },
  {
   "cell_type": "markdown",
   "metadata": {},
   "source": [
    "En lo primero que me he fijado es que en la lista de datos que recibe el cliente hay listas y tuplas dentro, con lo cual tendremos que tenerlo en cuenta en código.\n",
    "La función try: permite gestionar errores y excepciones de manera controlada."
   ]
  },
  {
   "cell_type": "code",
   "execution_count": 15,
   "metadata": {},
   "outputs": [
    {
     "name": "stdout",
     "output_type": "stream",
     "text": [
      "Elementos convertibles a float: [1.3, 10000000000.0, 2.0, 1.0, 1.4, 1.0, 2.0, 3.0, 3.4]\n",
      "Elementos no convertibles a float: ['one', 'seven', '3-1/2', 'not-a-number']\n"
     ]
    }
   ],
   "source": [
    "def es_convertible_a_float(valor): #Función para verificar si se puede convertir a float\n",
    "    try:\n",
    "        float(valor)\n",
    "        return True\n",
    "    except ValueError:\n",
    "        return False\n",
    "\n",
    "def extraer_elementos(lista):  #Función \n",
    "    elementos = []\n",
    "    for item in lista:\n",
    "        if isinstance(item, (list, tuple)):\n",
    "            elementos.extend(extraer_elementos(item))\n",
    "        else:\n",
    "            elementos.append(item)\n",
    "    return elementos\n",
    "\n",
    "def clasificar_elementos(lista):\n",
    "    lista_convertibles = []\n",
    "    lista_no_convertibles = []\n",
    "    \n",
    "    for elemento in extraer_elementos(lista):\n",
    "        if es_convertible_a_float(elemento):\n",
    "            lista_convertibles.append(float(elemento))\n",
    "        else:\n",
    "            lista_no_convertibles.append(elemento)\n",
    "    \n",
    "    return lista_convertibles, lista_no_convertibles\n",
    "\n",
    "# Lista de ejemplo\n",
    "datos = ['1.3', 'one', '1e10', 'seven', '3-1/2', ('2', 1, 1.4, 'not-a-number'), [1, 2, '3', '3.4']]\n",
    "\n",
    "# Clasificación\n",
    "convertibles, no_convertibles = clasificar_elementos(datos)\n",
    "\n",
    "print(\"Elementos convertibles a float:\", convertibles)\n",
    "print(\"Elementos no convertibles a float:\", no_convertibles)"
   ]
  },
  {
   "cell_type": "code",
   "execution_count": 17,
   "metadata": {},
   "outputs": [
    {
     "ename": "NameError",
     "evalue": "name 'elementos' is not defined",
     "output_type": "error",
     "traceback": [
      "\u001b[1;31m---------------------------------------------------------------------------\u001b[0m",
      "\u001b[1;31mNameError\u001b[0m                                 Traceback (most recent call last)",
      "Cell \u001b[1;32mIn[17], line 22\u001b[0m\n\u001b[0;32m     19\u001b[0m datos \u001b[38;5;241m=\u001b[39m [\u001b[38;5;124m'\u001b[39m\u001b[38;5;124m1.3\u001b[39m\u001b[38;5;124m'\u001b[39m, \u001b[38;5;124m'\u001b[39m\u001b[38;5;124mone\u001b[39m\u001b[38;5;124m'\u001b[39m, \u001b[38;5;124m'\u001b[39m\u001b[38;5;124m1e10\u001b[39m\u001b[38;5;124m'\u001b[39m, \u001b[38;5;124m'\u001b[39m\u001b[38;5;124mseven\u001b[39m\u001b[38;5;124m'\u001b[39m, \u001b[38;5;124m'\u001b[39m\u001b[38;5;124m3-1/2\u001b[39m\u001b[38;5;124m'\u001b[39m, (\u001b[38;5;124m'\u001b[39m\u001b[38;5;124m2\u001b[39m\u001b[38;5;124m'\u001b[39m, \u001b[38;5;241m1\u001b[39m, \u001b[38;5;241m1.4\u001b[39m, \u001b[38;5;124m'\u001b[39m\u001b[38;5;124mnot-a-number\u001b[39m\u001b[38;5;124m'\u001b[39m), [\u001b[38;5;241m1\u001b[39m, \u001b[38;5;241m2\u001b[39m, \u001b[38;5;124m'\u001b[39m\u001b[38;5;124m3\u001b[39m\u001b[38;5;124m'\u001b[39m, \u001b[38;5;124m'\u001b[39m\u001b[38;5;124m3.4\u001b[39m\u001b[38;5;124m'\u001b[39m]]\n\u001b[0;32m     21\u001b[0m \u001b[38;5;66;03m# Clasificación\u001b[39;00m\n\u001b[1;32m---> 22\u001b[0m convertibles, no_convertibles \u001b[38;5;241m=\u001b[39m \u001b[43mclasificar_elementos\u001b[49m\u001b[43m(\u001b[49m\u001b[43mdatos\u001b[49m\u001b[43m)\u001b[49m\n\u001b[0;32m     24\u001b[0m \u001b[38;5;28mprint\u001b[39m(\u001b[38;5;124m\"\u001b[39m\u001b[38;5;124mElementos convertibles a float:\u001b[39m\u001b[38;5;124m\"\u001b[39m, convertibles)\n\u001b[0;32m     25\u001b[0m \u001b[38;5;28mprint\u001b[39m(\u001b[38;5;124m\"\u001b[39m\u001b[38;5;124mElementos no convertibles a float:\u001b[39m\u001b[38;5;124m\"\u001b[39m, no_convertibles)\n",
      "Cell \u001b[1;32mIn[17], line 6\u001b[0m, in \u001b[0;36mclasificar_elementos\u001b[1;34m(lista)\u001b[0m\n\u001b[0;32m      2\u001b[0m lista_convertibles \u001b[38;5;241m=\u001b[39m []\n\u001b[0;32m      3\u001b[0m lista_no_convertibles \u001b[38;5;241m=\u001b[39m []\n\u001b[1;32m----> 6\u001b[0m \u001b[38;5;28;01mfor\u001b[39;00m item \u001b[38;5;129;01min\u001b[39;00m \u001b[43melementos\u001b[49m:\n\u001b[0;32m      7\u001b[0m     \u001b[38;5;28;01mif\u001b[39;00m \u001b[38;5;28misinstance\u001b[39m(item, (\u001b[38;5;28mlist\u001b[39m, \u001b[38;5;28mtuple\u001b[39m)):\n\u001b[0;32m      8\u001b[0m             extraer_clasificar(item)\n",
      "\u001b[1;31mNameError\u001b[0m: name 'elementos' is not defined"
     ]
    }
   ],
   "source": []
  },
  {
   "cell_type": "markdown",
   "metadata": {},
   "source": [
    "Primero definiremos una función para comprobar si un valor puede ser convertido a float o no. Por eso creo la función  es_combertible_a_float. Pero debemos tener ne cuenta que tenemos tuplas y listas en los datos, con lo cual hab´ra que limpiarlos.\n",
    "Por eso defino la función extraer_elementos, que itera por los valores i si estos son tuplas o listas, descompone los valores de estos y los alamacena en la lista elementos.\n",
    "Finalmente defino una función para clasificar los elementos convertibles y no convertibles a float usando las dos funciones anteriores.\n",
    "\n",
    "\n"
   ]
  },
  {
   "cell_type": "markdown",
   "metadata": {},
   "source": [
    "# Nivell 3\n",
    "### Exercici 1\n",
    "Comptador i endreçador de paraules d'un text.\n",
    "\n",
    "El client va quedar content amb el comptador de paraules, però ara vol llegir arxius TXT i que calculi la freqüència de cada paraula ordenades dins de les entrades habituals del diccionari segons la lletra amb la qual comencen, és a dir, les claus han d'anar de la A a la Z i dins de la A hem d'anar de la A la Z. Per exemple, per a l'arxiu \"tu_me_quieres_blanca.txt\" la sortida esperada seria:"
   ]
  },
  {
   "cell_type": "code",
   "execution_count": 19,
   "metadata": {},
   "outputs": [
    {
     "name": "stdout",
     "output_type": "stream",
     "text": [
      "A:\n",
      "  a: 3\n",
      "  agua: 1\n",
      "  al: 2\n",
      "  alba: 4\n",
      "  alcobas: 1\n",
      "  alimenta: 1\n",
      "  alma: 1\n",
      "  amarga: 1\n",
      "  azucena: 1\n",
      "B:\n",
      "  baco: 1\n",
      "  banquete: 1\n",
      "  bebe: 1\n",
      "  blanca: 3\n",
      "  boca: 1\n",
      "  bosques: 1\n",
      "  buen: 1\n",
      "C:\n",
      "  cabañas: 1\n",
      "  carnes: 2\n",
      "  casta: 3\n",
      "  cerrada: 1\n",
      "  con: 4\n",
      "  conservas: 1\n",
      "  copas: 1\n",
      "  corola: 1\n",
      "  corriste: 1\n",
      "  cuando: 2\n",
      "  cubierto: 1\n",
      "  cuerpo: 1\n",
      "  cuáles: 1\n",
      "D:\n",
      "  de: 8\n",
      "  dejaste: 1\n",
      "  del: 1\n",
      "  diga: 1\n",
      "  dios: 2\n",
      "  duerme: 1\n",
      "E:\n",
      "  el: 4\n",
      "  ellas: 1\n",
      "  en: 4\n",
      "  engaño: 1\n",
      "  enredada: 1\n",
      "  entonces: 1\n",
      "  escarcha: 1\n",
      "  espumas: 1\n",
      "  esqueleto: 1\n",
      "  estrago: 1\n",
      "F:\n",
      "  festejando: 1\n",
      "  filtrado: 1\n",
      "  frutos: 1\n",
      "H:\n",
      "  habla: 1\n",
      "  hacia: 1\n",
      "  haya: 1\n",
      "  hayas: 1\n",
      "  hermana: 1\n",
      "  hombre: 1\n",
      "  hubiste: 1\n",
      "  huye: 1\n",
      "I:\n",
      "  intacto: 1\n",
      "J:\n",
      "  jardines: 1\n",
      "L:\n",
      "  la: 3\n",
      "  labios: 1\n",
      "  las: 7\n",
      "  lo: 2\n",
      "  los: 4\n",
      "  luna: 1\n",
      "  lévate: 1\n",
      "  límpiate: 1\n",
      "M:\n",
      "  mano: 1\n",
      "  manos: 1\n",
      "  margarita: 1\n",
      "  me: 10\n",
      "  mi: 1\n",
      "  mieles: 1\n",
      "  milagros: 1\n",
      "  mojada: 1\n",
      "  montaña: 1\n",
      "  morados: 1\n",
      "N:\n",
      "  negros: 1\n",
      "  ni: 2\n",
      "  no: 1\n",
      "  nácar: 1\n",
      "  nívea: 2\n",
      "P:\n",
      "  perdone: 2\n",
      "  perfume: 1\n",
      "  por: 2\n",
      "  pretendes: 3\n",
      "  preténdeme: 3\n",
      "  puesto: 1\n",
      "  pájaros: 1\n",
      "  pámpanos: 1\n",
      "Q:\n",
      "  que: 6\n",
      "  quedó: 1\n",
      "  quieres: 6\n",
      "R:\n",
      "  rayo: 1\n",
      "  raíz: 1\n",
      "  renueva: 1\n",
      "  rocas: 1\n",
      "  rojo: 1\n",
      "S:\n",
      "  salitre: 1\n",
      "  se: 2\n",
      "  sea: 1\n",
      "  sean: 1\n",
      "  sobre: 2\n",
      "  sé: 1\n",
      "T:\n",
      "  te: 3\n",
      "  tejidos: 1\n",
      "  tenue: 1\n",
      "  tierra: 1\n",
      "  toca: 1\n",
      "  todas: 2\n",
      "  todavía: 1\n",
      "  tornadas: 1\n",
      "  tú: 8\n",
      "U:\n",
      "  un: 1\n",
      "  una: 1\n",
      "V:\n",
      "  vestido: 1\n",
      "  vete: 1\n",
      "  vive: 1\n",
      "Y:\n",
      "  y: 5\n"
     ]
    }
   ],
   "source": [
    "import re\n",
    "import string\n",
    "\n",
    "def comptar_i_ordenar_paraules(nom_arxiu):\n",
    "    \n",
    "    with open(nom_arxiu, 'r', encoding='utf-8') as arxiu:  #Leer el contenido del archivo\n",
    "        text = arxiu.read()\n",
    "\n",
    "    \n",
    "    text = text.lower()\n",
    "    text_sin_punt = re.sub(r'[^\\w\\s]', '', text) #Convertir todo a minúsculas y eliminar la puntuación\n",
    "    \n",
    "    \n",
    "    paraules = text_sin_punt.split()  #Dividir el texto en palabras\n",
    "    \n",
    "    \n",
    "    comptador = {}\n",
    "    for paraula in paraules:  # Contar la frecuencia de cada palabra\n",
    "        if paraula in comptador:\n",
    "            comptador[paraula] += 1\n",
    "        else:\n",
    "            comptador[paraula] = 1\n",
    "    \n",
    "    # Ordenar las palabras por letra inicial\n",
    "    paraules_ordenades = {lletra: {} for lletra in string.ascii_lowercase}\n",
    "    for paraula, freq in comptador.items():\n",
    "        inicial = paraula[0]\n",
    "        if inicial in paraules_ordenades:\n",
    "            paraules_ordenades[inicial][paraula] = freq\n",
    "    \n",
    "    return paraules_ordenades\n",
    "\n",
    "\n",
    "nom_arxiu = 'tu_me_quieres_blanca.txt'\n",
    "resultat = comptar_i_ordenar_paraules(nom_arxiu)\n",
    "\n",
    "\n",
    "for lletra, paraules in resultat.items():\n",
    "    if paraules:  # Imprimimos solo las letras que tienen palabras\n",
    "        print(f\"{lletra.upper()}:\")\n",
    "        for paraula, freq in sorted(paraules.items()):\n",
    "            print(f\"  {paraula}: {freq}\")\n"
   ]
  },
  {
   "cell_type": "markdown",
   "metadata": {},
   "source": [
    "Primero he importado dos módulos que necesitaremos, el re ya lo había utilizado en la actividad anterior i string tiene una constante que contiene una cadena con todas las letras minúsculas del alfabeto.\n",
    "\n",
    "He definido la función \"comptar_i_ordenar_paraules\" cogerá como argumento el nombre del archivo que queremos procesar.\n",
    "\n",
    "el bloque \"with\" sirve para abrir el archivo i asegurar-nos que lo lee correctamente y lo guarda en la variable \"text\".\n",
    "\n",
    "igual que en el otro ejercicio, eliminamos mayúsculas y carácteres.\n",
    "\n",
    "A continuación, con el método .split() dividimos el texto en una lista de palabras\n",
    "\n",
    "Como en el otro ejercicio, creamos un diccionario vacío \"contador\" que contendrá las palabras y su frecuencia. Recorremos cada palabra del texto y si ya existe en el diccionario, le añade al contador 1, sino no existe, la añade al diccionario con una frecuencia de 1.\n",
    "\n",
    "Ahora vamos a ordenar las palabras por letra inicial:\n",
    "He creado un diccionario \"paraules_ordenades\" amb les lletres de l'alfabet (fent servir la constant de l modul string: string.ascii_lowercase) con claves que son cada letra del alfabeto y valores que son diccionarios vacíos.\n",
    "\n",
    "El programa recorrerá el diccionario \"comptador\" i obtendrá la inicial de las palabras, luego verifica si esta inicial está en el diccionario \"paralues_ordenades\".\n",
    "Si está añadirá la palabra y su frequencia al diccionario.\n",
    "\n",
    "\n"
   ]
  }
 ],
 "metadata": {
  "kernelspec": {
   "display_name": "Python 3",
   "language": "python",
   "name": "python3"
  },
  "language_info": {
   "codemirror_mode": {
    "name": "ipython",
    "version": 3
   },
   "file_extension": ".py",
   "mimetype": "text/x-python",
   "name": "python",
   "nbconvert_exporter": "python",
   "pygments_lexer": "ipython3",
   "version": "3.12.2"
  }
 },
 "nbformat": 4,
 "nbformat_minor": 2
}
