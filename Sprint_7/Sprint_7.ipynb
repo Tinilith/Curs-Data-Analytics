{
 "cells": [
  {
   "cell_type": "markdown",
   "metadata": {},
   "source": [
    "# Nivell 1\n",
    "### Exercici 1\n",
    "Calculadora de l'índex de massa corporal\n",
    "\n",
    "- Escriu una funció que calculi l'IMC ingressat per l'usuari/ària, és a dir, qui ho executi haurà d'ingressar aquestes dades. Pots obtenir més informació del seu càlcul en:\n",
    "- La funció ha de classificar el resultat en les seves respectives categories"
   ]
  },
  {
   "cell_type": "code",
   "execution_count": 9,
   "metadata": {},
   "outputs": [
    {
     "name": "stdout",
     "output_type": "stream",
     "text": [
      "El teu índex de massa corporal és: 27.34\n",
      "Estàs en el grup de sobrepes\n"
     ]
    }
   ],
   "source": [
    "# Primer, demanem amb un input l'alçada i el pes de l'usuari, definim que sigui un float\n",
    "altura = float(input(\"Quina és la teva alçada en metres?\"))\n",
    "pes= float(input(\"Quin és el teu pes?\"))\n",
    "\n",
    "# Calculem l'índex de massa corporal i l'arrodonim a 2 decimals\n",
    "imc=round(pes/(altura**2),2)\n",
    "\n",
    "# Mostrem el imc\n",
    "print(f\"El teu índex de massa corporal és: {imc}\")\n",
    "\n",
    "#Clasificació de l'IMC (D'aquesta manera si volem algun dia canviar aquest valors, només cladrà que fem des d'aquí)\n",
    "baix_pes =18.5\n",
    "pes_normal= 24.9\n",
    "sobrepes=29.9\n",
    "\n",
    "if imc <= baix_pes :\n",
    "    print(\"Estàs en el grup de baix pes\")\n",
    "elif imc <= pes_normal :\n",
    "    print(\"Estàs en el grup de pes normal\")\n",
    "elif imc <= sobrepes :\n",
    "    print(\"Estàs en el grup de sobrepes\")\n",
    "else:\n",
    "    print(\"Estàs en el grup d'obesitat\")"
   ]
  },
  {
   "cell_type": "markdown",
   "metadata": {},
   "source": [
    "### Exercici 2\n",
    "Convertidor de temperatures.\n",
    "\n",
    "Existeixen diverses unitats de temperatura utilitzades en diferents contextos i regions. Les més comunes són Celsius (°C), Fahrenheit (°F) i Kelvin (K). També existeixen altres unitats com Rankine (°Ra) i Réaumur (°Re). Selecciona almenys 2 conversors, de tal manera que en introduir una temperatura retorni, com a mínim, dues conversions."
   ]
  },
  {
   "cell_type": "code",
   "execution_count": 14,
   "metadata": {},
   "outputs": [
    {
     "name": "stdout",
     "output_type": "stream",
     "text": [
      "65.32ºC equival a 149.58ºF i 338.47ºK\n"
     ]
    }
   ],
   "source": [
    "# Primer, definim les funcions de conversió:\n",
    "def celsius_farenheit(celsius):\n",
    "    return round((celsius * 9/5) + 32 , 2)\n",
    "def celsius_kelvin (celsius):\n",
    "    return round(celsius +273.15 , 2)\n",
    "\n",
    "def farenheit_celsius (farenheit):\n",
    "    return round((farenheit-32) * 5/9 , 2)\n",
    "\n",
    "def farenheit_kelvin (farenheit):\n",
    "    return round ((farenheit +459.67) *5/9 , 2)\n",
    "\n",
    "def kelvin_celsius (kelvin):\n",
    "    return round (kelvin - 273.15 , 2)\n",
    "\n",
    "def kelvin_farenheit (kelvin):\n",
    "    return round ((kelvin *9/5) - 459.67 , 2)\n",
    "\n",
    "#Demanem que l'usuari introdueixi quina temperatura vol transformar i en quina unitat està\n",
    "temperatura = float(input(\"Quina és la temperatura que vols transformar?\"))\n",
    "unitat= input(\"Introdueix la unitat (C, K, F): \"). upper() # upper transforma l'input a majúscules\n",
    "\n",
    "if unitat == \"C\":                                   #Si l'usuari introdueix la temperatura en Celsius, ho transformarà en farenheit i Kelvin\n",
    "    farenheit= celsius_farenheit(temperatura)\n",
    "    kelvin= celsius_kelvin(temperatura)\n",
    "    print(f\"{temperatura}ºC equival a {farenheit}ºF i {kelvin}ºK\")\n",
    "\n",
    "elif unitat == \"F\":                                 #Si l'usuari introdueix la temperatura en fareneheit, ho transformarà en celsius i Kelvin\n",
    "    celsius = farenheit_celsius(temperatura)\n",
    "    kelvin = farenheit_kelvin(temperatura)\n",
    "    print (f\"{temperatura}ºF equival a {celsius}ºC i {kelvin}ºK\")\n",
    "\n",
    "elif unitat == \"K\":                                 #Si l'usuari introdueix la temperatura en Ckelvin, ho transformarà en farenheit i celsius\n",
    "    celsius =kelvin_celsius(temperatura)\n",
    "    farenheit = kelvin_farenheit(temperatura)\n",
    "    print (f\"{temperatura}ºK equival a {celsius}ºC i {farenheit}ºF\")\n",
    "\n",
    "else:\n",
    "    print (\"Unitat no reconeguda. Si us plau, introdueix C,K o F\")      #si s'introudeix una lletra que no sigui c, k o F, donarà aquest missatge d'KeyError\n",
    "        \n",
    "    \n",
    "    "
   ]
  },
  {
   "cell_type": "markdown",
   "metadata": {},
   "source": [
    "### Exercici 3\n",
    "Comptador de paraules d'un text.\n",
    "\n",
    "Escriu una funció que donat un text, mostri les vegades que apareix cada paraula.\n",
    "\n"
   ]
  },
  {
   "cell_type": "code",
   "execution_count": 26,
   "metadata": {},
   "outputs": [
    {
     "name": "stdout",
     "output_type": "stream",
     "text": [
      "{'text=': 1, 'input(\"introdueix': 1, 'un': 1, 'text:': 1, '\").lower()': 1, '#el': 1, 'transformem': 1, 'a': 1, 'minuscules': 1, 'per': 1, 'no': 1, 'tenir': 1, 'problemes': 1, 'després': 1}\n"
     ]
    }
   ],
   "source": [
    "def contador_palabras(text):\n",
    "    \n",
    "    text=text.lower()\n",
    "\n",
    "#Hem de separar el text en paraules per transformar-ho en una llista de paraules. Per això existeix el mètode split\n",
    "    paraules = text.split()\n",
    "\n",
    "    contador={} # Creem un diccionari on introduirem les paraules i el nombre de vegades que apareixen\n",
    "\n",
    "    for paraula in paraules: \n",
    "        if paraula in contador:\n",
    "            contador[paraula]+=1\n",
    "        else:\n",
    "            contador[paraula]=1\n",
    "\n",
    "    return contador\n",
    "\n",
    "text=input(\"Introduce el texto:\")\n",
    "resultado= contador_palabras(text)\n",
    "print (resultado)\n",
    "\n",
    "\n"
   ]
  },
  {
   "cell_type": "markdown",
   "metadata": {},
   "source": [
    "En este ejercicio he decidido crear un input, donde el usuario puede agregar el texto del cual quiere contar las palabras. He decidido poner el método .lower() para que todo el texto se transforme a minúsculas y de este modo no haya interferencia con las mayúsculas.\n",
    "\n",
    "\n",
    "Después he usado el método .split() para que separe las palabras del texto y las ponga en una lista. Además, he creado un diccionario que sea capaz de almacenar cada palabra con el número de veces que aparece en el texto.\n",
    "\n",
    "Con el bucle conseguimos que el programa recorra cada palabra de la lista que creamos y la almacene en el diccionario “contador” y si la palabra existe en el contador, sume uno al contador, y si no, le pone un uno.\n",
    "\n",
    "Luego imprime el diccionario “contador” para mostrar cada palabra y el recuento de las veces que aparece.\n",
    "\n",
    "Podemos observar que los signos de puntación dan problemas. Por lo tanto, finalmente decidí eliminarlos cambiando un poco el código:\n"
   ]
  },
  {
   "cell_type": "code",
   "execution_count": 32,
   "metadata": {},
   "outputs": [
    {
     "name": "stdout",
     "output_type": "stream",
     "text": [
      "{'he': 1, 'usado': 1, 'resub': 1, 'esta': 1, 'expresión': 1, 'está': 1, 'buscando': 1, 'en': 2, 'el': 1, 'texto': 1, 'cualquier': 1, 'carácter': 2, 'que': 1, 'no': 1, 'sea': 1, 'letra': 1, 'número': 1, 'guión': 1, 'bajo': 1, 'o': 1, 'n': 1, 'de': 1, 'espacio': 2, 'blanco': 1, 'ws': 1, 'y': 1, 'lo': 1, 'substituye': 1, 'por': 1, 'un': 1}\n"
     ]
    }
   ],
   "source": [
    "import re\n",
    "\n",
    "def contador_palabras(text):\n",
    "    \n",
    "    text=text.lower()\n",
    "    text_sin_punt=re.sub(r'[^\\w\\s]', '',text)\n",
    "#Hem de separar el text en paraules per transformar-ho en una llista de paraules. Per això existeix el mètode split\n",
    "    paraules = text_sin_punt.split()\n",
    "#Hem de separar el text en paraules per transformar-ho en una llista de paraules. Per això existeix el mètode split\n",
    "    \n",
    "\n",
    "    contador={} # Creem un diccionari on introduirem les paraules i el nombre de vegades que apareixen\n",
    "\n",
    "    for paraula in paraules: \n",
    "        if paraula in contador:\n",
    "            contador[paraula]+=1\n",
    "        else:\n",
    "            contador[paraula]=1\n",
    "\n",
    "    return contador\n",
    "\n",
    "text=input(\"Introduce el texto:\")\n",
    "resultado= contador_palabras(text)\n",
    "print (resultado)\n",
    "\n",
    "\n",
    "\n",
    "\n"
   ]
  },
  {
   "cell_type": "markdown",
   "metadata": {},
   "source": [
    "He usado re.sub . Esta expresión está buscando en el texto cualquier carácter que no sea letra, número, guión bajo o n carácter de espacio en blanco \"[^\\w\\s]\" y lo substituye por un espacio.\n"
   ]
  },
  {
   "cell_type": "markdown",
   "metadata": {},
   "source": [
    "### Exercici 4\n",
    "Diccionari invers.\n",
    "\n",
    "Resulta que el client té una enquesta molt antiga que s'emmagatzema en un diccionari i els resultats els necessita al revés, és a dir, intercanviats les claus i els valors. Els valors i claus en el diccionari original són únics; si aquest no és el cas, la funció hauria d'imprimir un missatge d'advertiment."
   ]
  },
  {
   "cell_type": "code",
   "execution_count": 41,
   "metadata": {},
   "outputs": [
    {
     "name": "stdout",
     "output_type": "stream",
     "text": [
      "{1: 'a', 2: 'b', 3: 'c'}\n",
      "Error: Multiple keys for one value\n",
      "None\n"
     ]
    }
   ],
   "source": [
    "def diccionari_invertit(d):\n",
    "    diccionari_entrada = {}\n",
    "    for key, value in d.items():\n",
    "        if value in diccionari_entrada: #Avaluem si hi ha repeticions\n",
    "            print(\"Error: Multiple keys for one value\")\n",
    "            return None                 # Si no lo pongo después imprimirá el diccionario sin el valor duplicado\n",
    "        diccionari_entrada[value] = key #Intercambia los valores por las claves\n",
    "    return diccionari_entrada\n",
    "\n",
    "#Comprovem que funciona:\n",
    "nou_dicc = {'a': 1, 'b': 2, 'c': 3}  \n",
    "result = diccionari_invertit(nou_dicc)\n",
    "print(result)\n",
    "\n",
    "# Amb duplicats\n",
    "dicc_dupli = {\n",
    "    'a': 1,\n",
    "    'b': 2,\n",
    "    'c': 1\n",
    "    }\n",
    "result2 = diccionari_invertit(dicc_dupli)\n",
    "print(result2)"
   ]
  },
  {
   "cell_type": "markdown",
   "metadata": {},
   "source": [
    "He definido una función que inicialmente evalua si hay valores no unicos. Y después intercambia los valores por las claves, de manera que obtenemos un diccionario invertido. \n",
    "en el caso de los diccionarios no es necesario comprovar si hay duplicados en las keys, puesto que el simple hecho de ser un diccionario, python no lo permitiria, se quedaria con el ultimo valor para la key duplicada (como se puede observar a continuación)"
   ]
  },
  {
   "cell_type": "code",
   "execution_count": 43,
   "metadata": {},
   "outputs": [
    {
     "name": "stdout",
     "output_type": "stream",
     "text": [
      "{'a': 1, 'b': 2, 'c': 5}\n"
     ]
    }
   ],
   "source": [
    "dicc ={'a': 1,\n",
    "       'b': 2,\n",
    "       'c':3,\n",
    "       'c':5}\n",
    "\n",
    "print(dicc)"
   ]
  },
  {
   "cell_type": "markdown",
   "metadata": {},
   "source": [
    "## Nivell 2 ##\n",
    "\n",
    "### Exercici 1 ###\n",
    "Diccionari invers amb duplicats\n",
    "\n",
    "Continuant amb l'exercici 4 del nivell 1: al client es va oblidar de comentar un detall i resulta que els valors en el diccionari original poden duplicar-se i més, per la qual cosa les claus intercanviades poden tenir duplicats. En aquest cas, en l'exercici anterior imprimies un missatge d'advertiment, ara, els valors del diccionari resultant hauran d'emmagatzemar-se com una llista. Tingues en compte que si és un valor únic no ha de ser una llista.\n",
    "\n"
   ]
  },
  {
   "cell_type": "code",
   "execution_count": 45,
   "metadata": {},
   "outputs": [
    {
     "name": "stdout",
     "output_type": "stream",
     "text": [
      "{'apple': 'x', 'banana': ['y', 'z']}\n"
     ]
    }
   ],
   "source": [
    "def diccionari_invertit2(d):\n",
    "    dicc_entrada = {}\n",
    "    for key, value in d.items(): \n",
    "        if value in dicc_entrada:  #miramos si hay valores duplicados\n",
    "            if isinstance(dicc_entrada[value],list): # miramos si los duplicados estan en listas\n",
    "                dicc_entrada[value].append(key)\n",
    "            else:\n",
    "                dicc_entrada[value] = [dicc_entrada[value],key] #si no estan en listas los convertimos en listas\n",
    "        else:\n",
    "            dicc_entrada[value] = key  #si no, simplemente intercambiamos el valor por la key\n",
    "    return dicc_entrada\n",
    "\n",
    "dic = {'x': 'apple', 'y': 'banana', 'z': 'banana'}\n",
    "print (diccionari_invertit2(dic))\n"
   ]
  },
  {
   "cell_type": "markdown",
   "metadata": {},
   "source": [
    "He definido una funcion que recorre el diccionario y evalua si hay duplicados, si los hay, evalua si estan stiados en listas, si no, lo transforma en lista. Y si no hay duplicados simplemente intercambia los valors por las keys, para invertir el diccionario. De modo que si hay valores duplicados , al transformarlos en key, estas estarána asociadas a dos valores guardados en una lista."
   ]
  },
  {
   "cell_type": "markdown",
   "metadata": {},
   "source": [
    "### Exercici 2\n",
    "Conversió de tipus de dades\n",
    "\n",
    "El client rep una llista de dades i necessita generar dues llistes, la primera on estaran tots els elements que es van poder convertir en flotants i l'altra on estan els elements que no es van poder convertir. Exemple de la llista que rep el client: [ '1.3', 'one' , '1e10' , 'seven', '3-1/2', ('2',1,1.4,'not-a-number'), [1,2,'3','3.4']]"
   ]
  },
  {
   "cell_type": "markdown",
   "metadata": {},
   "source": [
    "En lo primero que me he fijado es que en la lista de datos que recibe el cliente hay listas y tuplas dentro, con lo cual tendremos que tenerlo en cuenta en código.\n",
    "La función try: permite gestionar errores y excepciones de manera controlada."
   ]
  },
  {
   "cell_type": "code",
   "execution_count": 4,
   "metadata": {},
   "outputs": [
    {
     "name": "stdout",
     "output_type": "stream",
     "text": [
      "Elementos convertibles a float: [1.3, 10000000000.0, 2.0, 1.0, 1.4, 1.0, 2.0, 3.0, 3.4]\n",
      "Elementos no convertibles a float: ['one', 'seven', '3-1/2', 'not-a-number']\n"
     ]
    }
   ],
   "source": [
    "def es_convertible_a_float(valor): #Función para verificar si se puede convertir a float\n",
    "    try:\n",
    "        float(valor)\n",
    "        return True\n",
    "    except ValueError:\n",
    "        return False\n",
    "\n",
    "def extraer_elementos(lista):  #Función \n",
    "    elementos = []\n",
    "    for item in lista:\n",
    "        if isinstance(item, (list, tuple)):\n",
    "            elementos.extend(extraer_elementos(item))\n",
    "        else:\n",
    "            elementos.append(item)\n",
    "    return elementos\n",
    "\n",
    "def clasificar_elementos(lista):\n",
    "    lista_convertibles = []\n",
    "    lista_no_convertibles = []\n",
    "    \n",
    "    for elemento in extraer_elementos(lista):\n",
    "        if es_convertible_a_float(elemento):\n",
    "            lista_convertibles.append(float(elemento))\n",
    "        else:\n",
    "            lista_no_convertibles.append(elemento)\n",
    "    \n",
    "    return lista_convertibles, lista_no_convertibles\n",
    "\n",
    "# Lista de ejemplo\n",
    "datos = ['1.3', 'one', '1e10', 'seven', '3-1/2', ('2', 1, 1.4, 'not-a-number'), [1, 2, '3', '3.4']]\n",
    "\n",
    "# Clasificación\n",
    "convertibles, no_convertibles = clasificar_elementos(datos)\n",
    "\n",
    "print(\"Elementos convertibles a float:\", convertibles)\n",
    "print(\"Elementos no convertibles a float:\", no_convertibles)"
   ]
  },
  {
   "cell_type": "markdown",
   "metadata": {},
   "source": [
    "Primero definiremos una función para comprobar si un valor puede ser convertido a float o no. Por eso creo la función  es_combertible_a_float. Pero debemos tener ne cuenta que tenemos tuplas y listas en los datos, con lo cual hab´ra que limpiarlos.\n",
    "Por eso defino la función extraer_elementos, que itera por los valores i si estos son tuplas o listas, descompone los valores de estos y los alamacena en la lista elementos.\n",
    "Finalmente defino una función para clasificar los elementos convertibles y no convertibles a float usando las dos funciones anteriores.\n",
    "\n",
    "\n"
   ]
  },
  {
   "cell_type": "markdown",
   "metadata": {},
   "source": [
    "# Nivell 3\n",
    "### Exercici 1\n",
    "Comptador i endreçador de paraules d'un text.\n",
    "\n",
    "El client va quedar content amb el comptador de paraules, però ara vol llegir arxius TXT i que calculi la freqüència de cada paraula ordenades dins de les entrades habituals del diccionari segons la lletra amb la qual comencen, és a dir, les claus han d'anar de la A a la Z i dins de la A hem d'anar de la A la Z. Per exemple, per a l'arxiu \"tu_me_quieres_blanca.txt\" la sortida esperada seria:"
   ]
  },
  {
   "cell_type": "code",
   "execution_count": 8,
   "metadata": {},
   "outputs": [
    {
     "name": "stdout",
     "output_type": "stream",
     "text": [
      "A:\n",
      "  a: 3\n",
      "  agua: 1\n",
      "  al: 2\n",
      "  alba: 4\n",
      "  alcobas: 1\n",
      "  alimenta: 1\n",
      "  alma: 1\n",
      "  amarga: 1\n",
      "  azucena: 1\n",
      "B:\n",
      "  baco: 1\n",
      "  banquete: 1\n",
      "  bebe: 1\n",
      "  blanca: 3\n",
      "  boca: 1\n",
      "  bosques: 1\n",
      "  buen: 1\n",
      "C:\n",
      "  cabañas: 1\n",
      "  carnes: 2\n",
      "  casta: 3\n",
      "  cerrada: 1\n",
      "  con: 4\n",
      "  conservas: 1\n",
      "  copas: 1\n",
      "  corola: 1\n",
      "  corriste: 1\n",
      "  cuando: 2\n",
      "  cubierto: 1\n",
      "  cuerpo: 1\n",
      "  cuáles: 1\n",
      "D:\n",
      "  de: 8\n",
      "  dejaste: 1\n",
      "  del: 1\n",
      "  diga: 1\n",
      "  dios: 2\n",
      "  duerme: 1\n",
      "E:\n",
      "  el: 4\n",
      "  ellas: 1\n",
      "  en: 4\n",
      "  engaño: 1\n",
      "  enredada: 1\n",
      "  entonces: 1\n",
      "  escarcha: 1\n",
      "  espumas: 1\n",
      "  esqueleto: 1\n",
      "  estrago: 1\n",
      "F:\n",
      "  festejando: 1\n",
      "  filtrado: 1\n",
      "  frutos: 1\n",
      "H:\n",
      "  habla: 1\n",
      "  hacia: 1\n",
      "  haya: 1\n",
      "  hayas: 1\n",
      "  hermana: 1\n",
      "  hombre: 1\n",
      "  hubiste: 1\n",
      "  huye: 1\n",
      "I:\n",
      "  intacto: 1\n",
      "J:\n",
      "  jardines: 1\n",
      "L:\n",
      "  la: 3\n",
      "  labios: 1\n",
      "  las: 7\n",
      "  lo: 2\n",
      "  los: 4\n",
      "  luna: 1\n",
      "  lévate: 1\n",
      "  límpiate: 1\n",
      "M:\n",
      "  mano: 1\n",
      "  manos: 1\n",
      "  margarita: 1\n",
      "  me: 10\n",
      "  mi: 1\n",
      "  mieles: 1\n",
      "  milagros: 1\n",
      "  mojada: 1\n",
      "  montaña: 1\n",
      "  morados: 1\n",
      "N:\n",
      "  negros: 1\n",
      "  ni: 2\n",
      "  no: 1\n",
      "  nácar: 1\n",
      "  nívea: 2\n",
      "P:\n",
      "  perdone: 2\n",
      "  perfume: 1\n",
      "  por: 2\n",
      "  pretendes: 3\n",
      "  preténdeme: 3\n",
      "  puesto: 1\n",
      "  pájaros: 1\n",
      "  pámpanos: 1\n",
      "Q:\n",
      "  que: 6\n",
      "  quedó: 1\n",
      "  quieres: 6\n",
      "R:\n",
      "  rayo: 1\n",
      "  raíz: 1\n",
      "  renueva: 1\n",
      "  rocas: 1\n",
      "  rojo: 1\n",
      "S:\n",
      "  salitre: 1\n",
      "  se: 2\n",
      "  sea: 1\n",
      "  sean: 1\n",
      "  sobre: 2\n",
      "  sé: 1\n",
      "T:\n",
      "  te: 3\n",
      "  tejidos: 1\n",
      "  tenue: 1\n",
      "  tierra: 1\n",
      "  toca: 1\n",
      "  todas: 2\n",
      "  todavía: 1\n",
      "  tornadas: 1\n",
      "  tú: 8\n",
      "U:\n",
      "  un: 1\n",
      "  una: 1\n",
      "V:\n",
      "  vestido: 1\n",
      "  vete: 1\n",
      "  vive: 1\n",
      "Y:\n",
      "  y: 5\n"
     ]
    }
   ],
   "source": [
    "import re\n",
    "import string\n",
    "\n",
    "def comptar_i_ordenar_paraules(nom_arxiu):\n",
    "    \n",
    "    with open(nom_arxiu, 'r', encoding='utf-8') as arxiu:  #Leer el contenido del archivo\n",
    "        text = arxiu.read()\n",
    "\n",
    "    \n",
    "    text = text.lower()\n",
    "    text_sin_punt = re.sub(r'[^\\w\\s]', '', text) #Convertir todo a minúsculas y eliminar la puntuación\n",
    "    \n",
    "    \n",
    "    paraules = text_sin_punt.split()  #Dividir el texto en palabras\n",
    "    \n",
    "    \n",
    "    comptador = {}\n",
    "    for paraula in paraules:  # Contar la frecuencia de cada palabra\n",
    "        if paraula in comptador:\n",
    "            comptador[paraula] += 1\n",
    "        else:\n",
    "            comptador[paraula] = 1\n",
    "    \n",
    "    # Ordenar las palabras por letra inicial\n",
    "    paraules_ordenades = {lletra: {} for lletra in string.ascii_lowercase}\n",
    "    for paraula, freq in comptador.items():\n",
    "        inicial = paraula[0]\n",
    "        if inicial in paraules_ordenades:\n",
    "            paraules_ordenades[inicial][paraula] = freq\n",
    "    \n",
    "    return paraules_ordenades\n",
    "\n",
    "\n",
    "nom_arxiu = 'tu_me_quieres_blanca.txt'\n",
    "resultat = comptar_i_ordenar_paraules(nom_arxiu)\n",
    "\n",
    "\n",
    "for lletra, paraules in resultat.items():\n",
    "    if paraules:  # Imprimimos solo las letras que tienen palabras\n",
    "        print(f\"{lletra.upper()}:\")\n",
    "        for paraula, freq in sorted(paraules.items()):\n",
    "            print(f\"  {paraula}: {freq}\")\n"
   ]
  },
  {
   "cell_type": "markdown",
   "metadata": {},
   "source": [
    "Primero he importado dos módulos que necesitaremos, el re ya lo había utilizado en la actividad anterior i string tiene una constante que contiene una cadena con todas las letras minúsculas del alfabeto.\n",
    "\n",
    "He definido la función \"comptar_i_ordenar_paraules\" cogerá como argumento el nombre del archivo que queremos procesar.\n",
    "\n",
    "el bloque \"with\" sirve para abrir el archivo i asegurar-nos que lo lee correctamente y lo guarda en la variable \"text\".\n",
    "\n",
    "igual que en el otro ejercicio, eliminamos mayúsculas y carácteres.\n",
    "\n",
    "A continuación, con el método .split() dividimos el texto en una lista de palabras\n",
    "\n",
    "Como en el otro ejercicio, creamos un diccionario vacío \"contador\" que contendrá las palabras y su frecuencia. Recorremos cada palabra del texto y si ya existe en el diccionario, le añade al contador 1, sino no existe, la añade al diccionario con una frecuencia de 1.\n",
    "\n",
    "Ahora vamos a ordenar las palabras por letra inicial:\n",
    "He creado un diccionario \"paraules_ordenades\" amb les lletres de l'alfabet (fent servir la constant de l modul string: string.ascii_lowercase)\n",
    "\n",
    "el programa recorrerá el diccionario \"comptador\" \n",
    "\n",
    "\n"
   ]
  }
 ],
 "metadata": {
  "kernelspec": {
   "display_name": "Python 3",
   "language": "python",
   "name": "python3"
  },
  "language_info": {
   "codemirror_mode": {
    "name": "ipython",
    "version": 3
   },
   "file_extension": ".py",
   "mimetype": "text/x-python",
   "name": "python",
   "nbconvert_exporter": "python",
   "pygments_lexer": "ipython3",
   "version": "3.12.2"
  }
 },
 "nbformat": 4,
 "nbformat_minor": 2
}
