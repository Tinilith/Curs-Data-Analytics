{
 "cells": [
  {
   "cell_type": "markdown",
   "id": "262f9e89-1a52-4428-94ae-50f80b82c2e3",
   "metadata": {},
   "source": [
    "# Tasca S8.02. Power BI con Python\n",
    "\n",
    "## Nivel 1\n",
    "\n",
    "Esta tarea consiste en la elaboración de un informe de Power BI, aprovechando las capacidades analíticas de Python. Se utilizarán los scripts de Python creados previamente en la tarea 1 para generar visualizaciones personalizadas con las bibliotecas Seaborn y Matplotlib. Estas visualizaciones serán integradas en el informe de Power BI para ofrecer una comprensión más profunda de la capacidad del lenguaje de programación en la herramienta Power BI.\n"
   ]
  },
  {
   "cell_type": "markdown",
   "id": "3f59dac7-9528-404b-81ce-ed7510411089",
   "metadata": {},
   "source": [
    "Primero vamos a realizar la conexión con la base de datos:"
   ]
  },
  {
   "cell_type": "code",
   "execution_count": null,
   "id": "47b5b5be-db0c-4b89-a610-67aa5c756559",
   "metadata": {},
   "outputs": [],
   "source": [
    "\n",
    "import pandas as pd\n",
    "import matplotlib.pyplot as plt\n",
    "import seaborn as sns\n",
    "from sqlalchemy import create_engine\n",
    "from sqlalchemy.orm import sessionmaker\n",
    "\n",
    "# Vamos a crear la conexión:\n",
    "# Parámetros de conexión\n",
    "username = 'root'\n",
    "password = 'Erethiel00.'\n",
    "hostname = 'localhost'\n",
    "database = 'transactionsv2'\n",
    "\n",
    "conexion = f'mysql+pymysql://{username}:{password}@{hostname}/{database}'\n",
    "# Crear el motor de la base de datos\n",
    "engine = create_engine(conexion)\n",
    "\n",
    "\n",
    "# Para almacenar las tablas en data frames, primero necesitaremos el nombre de las tablas:\n",
    "tabla_nombres= pd.read_sql('SHOW TABLES',engine)\n",
    "tabla_nombres\n",
    "\n",
    "# Utilizamos un bucle para lamacenar las tablas en data frames y crear variables globales:\n",
    "for nombres in tabla_nombres['Tables_in_transactionsv2']:\n",
    "    print(nombres)\n",
    "    query= f\"SELECT * FROM {nombres}\"\n",
    "    df= pd.read_sql(query,engine)\n",
    "    globals()[f'df_{nombres}']=df\n",
    "    \n",
    "engine.dispose()\n"
   ]
  },
  {
   "cell_type": "markdown",
   "id": "1d548ca7-114b-4a6b-95e9-468035040d59",
   "metadata": {},
   "source": [
    "Revisamos que los datos se han importado correctamente y creamos la relaciones entre las tablas. "
   ]
  },
  {
   "cell_type": "markdown",
   "id": "43889d49-cd6c-48d7-8111-18e24df4a429",
   "metadata": {},
   "source": [
    "## Ejercicio 1\n",
    "Una variable numérica:"
   ]
  },
  {
   "cell_type": "code",
   "execution_count": null,
   "id": "bf6b59bd-c6e7-4ee9-a4f1-c6c9dd4b877c",
   "metadata": {},
   "outputs": [],
   "source": [
    "# El código siguiente, que crea un dataframe y quita las filas duplicadas, siempre se ejecuta y actúa como un preámbulo del script: \n",
    "\n",
    "# dataset = pandas.DataFrame(price_usd, id, weight)\n",
    "# dataset = dataset.drop_duplicates()\n",
    "\n",
    "# Importamos librerías\n",
    "import matplotlib.pyplot as plt\n",
    "import pandas as pd\n",
    "import seaborn as sns\n",
    "\n",
    "#Hacemos el conteo y cambiamos el nombre a las columnas\n",
    "product_counts = dataset['product_name'].value_counts().reset_index()\n",
    "product_counts.columns = ['product_name', 'num_ventas'] #cambiamos el nombre a las columnas\n",
    "\n",
    "# Creamos una variable para guardar los colores de las barras basados en el número de ventas\n",
    "colors = ['#F9B1B3' if x < 50 else '#8DD3C7' for x in product_counts['num_ventas']]\n",
    "\n",
    "plt.bar(product_counts['product_name'], product_counts['num_ventas'], color = colors)\n",
    "\n",
    "plt.axhline(y=50, color='blue', linestyle='--', linewidth=2, label='Mínimo de 50 ventas')\n",
    "\n",
    "\n",
    "plt.title('Número de veces que se compró cada producto', fontsize=16)\n",
    "plt.xlabel('Nombre del Producto', fontsize=14)\n",
    "plt.ylabel('Número de Ventas', fontsize=14)\n",
    "\n",
    "# Rotamos las etiquetas del eje x para que no se solapen\n",
    "plt.xticks(rotation=90)\n",
    "plt.tight_layout() \n",
    "\n",
    "# Mostrar el gráfico\n",
    "plt.show();"
   ]
  },
  {
   "cell_type": "markdown",
   "id": "b4be67d9-a1b3-42fa-946f-7d7721387d6a",
   "metadata": {},
   "source": [
    "## Ejercicio 2\n",
    "Dos variables numéricas"
   ]
  },
  {
   "cell_type": "code",
   "execution_count": null,
   "id": "54ee59de-7762-4351-9306-2af6fb7a86d2",
   "metadata": {},
   "outputs": [],
   "source": [
    "# El código siguiente, que crea un dataframe y quita las filas duplicadas, siempre se ejecuta y actúa como un preámbulo del script: \n",
    "\n",
    "# dataset = pandas.DataFrame(price_usd, id, weight)\n",
    "# dataset = dataset.drop_duplicates()\n",
    "\n",
    "# Pegue o escriba aquí el código de script:\n",
    "\n",
    "import matplotlib.pyplot as plt\n",
    "import pandas as pd\n",
    "import seaborn as sns\n",
    "import numpy as np\n",
    "\n",
    "# Graficar relación entre precio y peso con seaborn\n",
    "plt.figure(figsize=(10, 6))\n",
    "sns.regplot(x='weight', y='price_usd', data=dataset)\n",
    "\n",
    "# Calcular coeficiente de correlación usando pandas\n",
    "corr_coef = dataset['weight'].corr(dataset['price_usd'])\n",
    "\n",
    "# Colocar texto en el gráfico (coeficiente de correlación)\n",
    "plt.text(0.3, 0.4, f'Coeficiente de correlación = {corr_coef:.2f}', fontsize=12, transform=plt.gca().transAxes)\n",
    "\n",
    "# Título y etiquetas de los ejes\n",
    "plt.title('Relación entre Precio y Peso de Productos', fontsize=14)\n",
    "plt.xlabel('Peso', fontsize=12)\n",
    "plt.ylabel('Precio en USD', fontsize=12)\n",
    "\n",
    "# Mostrar el gráfico\n",
    "plt.show()"
   ]
  },
  {
   "cell_type": "markdown",
   "id": "79cfbd84-f9c8-4a0a-98a0-8aad3d9fe4eb",
   "metadata": {},
   "source": [
    "## Ejercicio 3\n",
    "Una variable categórica"
   ]
  },
  {
   "cell_type": "code",
   "execution_count": null,
   "id": "78a8ccd0-7b06-4360-aaee-a3f742aeec08",
   "metadata": {},
   "outputs": [],
   "source": [
    "# El código siguiente, que crea un dataframe y quita las filas duplicadas, siempre se ejecuta y actúa como un preámbulo del script: \n",
    "\n",
    "# dataset = pandas.DataFrame(amount, id)\n",
    "# dataset = dataset.drop_duplicates()\n",
    "\n",
    "# Importar bibliotecas necesarias\n",
    "import matplotlib.pyplot as plt\n",
    "import pandas as pd\n",
    "import seaborn as sns\n",
    "\n",
    "sns.countplot(data=dataset, order=dataset['country'].value_counts().index, y='country', hue='country', palette='viridis', legend=False)\n",
    "\n",
    "plt.title('Cantidad de usuarios por país', fontsize=16)\n",
    "plt.xlabel('Número de usuarios',fontsize=14)\n",
    "plt.ylabel('País',fontsize=14)\n",
    "plt.tight_layout() \n",
    "plt.show();\n"
   ]
  },
  {
   "cell_type": "markdown",
   "id": "d2ae908a-783e-47bc-9bdb-dadfa2c337d6",
   "metadata": {},
   "source": [
    "## Ejercicio 4\n",
    "Una variable categórica y una numérica\n"
   ]
  },
  {
   "cell_type": "code",
   "execution_count": null,
   "id": "b2bb8159-9d77-4816-bd26-f459890ca9e0",
   "metadata": {},
   "outputs": [],
   "source": [
    "# El código siguiente, que crea un dataframe y quita las filas duplicadas, siempre se ejecuta y actúa como un preámbulo del script: \n",
    "\n",
    "# dataset = pandas.DataFrame(amount, country, id, user_id)\n",
    "# dataset = dataset.drop_duplicates()\n",
    "\n",
    "import matplotlib.pyplot as plt\n",
    "import pandas as pd\n",
    "import seaborn as sns\n",
    "\n",
    "sns.boxplot(x='country', y='amount', data=dataset, hue='country', palette='viridis')\n",
    "plt.title('Distribución del Monto de las Transacciones por País')\n",
    "plt.xlabel('País')\n",
    "plt.ylabel('Monto de la Transacción (USD)')\n",
    "plt.tight_layout() \n",
    "\n",
    "plt.show();"
   ]
  },
  {
   "cell_type": "markdown",
   "id": "4ee49d61-e02b-4687-8444-1b198db0a153",
   "metadata": {},
   "source": [
    "## Ejercicio 5\n",
    "Dos variables categóricas"
   ]
  },
  {
   "cell_type": "code",
   "execution_count": null,
   "id": "f4d4d1e6-6fdd-430d-a2b1-22c2f02e2834",
   "metadata": {},
   "outputs": [],
   "source": [
    "# El código siguiente, que crea un dataframe y quita las filas duplicadas, siempre se ejecuta y actúa como un preámbulo del script: \n",
    "\n",
    "# dataset = pandas.DataFrame(declined, id, business_id, company_id, country)\n",
    "# dataset = dataset.drop_duplicates()\n",
    "\n",
    "import matplotlib.pyplot as plt\n",
    "import pandas as pd\n",
    "import seaborn as sns\n",
    "\n",
    "sns.countplot(data=dataset, x='country', hue='declined',order=dataset['country'].value_counts().index, palette='viridis')\n",
    "\n",
    "plt.title('Cantidad de transacciones por País y declined')\n",
    "plt.xlabel('País')\n",
    "plt.ylabel('Número de Transacciones')\n",
    "plt.xticks(rotation=90)\n",
    "plt.legend(title='Transacción Declined', loc='upper right')\n",
    "plt.tight_layout() \n",
    "\n",
    "plt.show();"
   ]
  },
  {
   "cell_type": "markdown",
   "id": "da6d2a88-03c9-4ef3-99b1-1f6dac6455cb",
   "metadata": {},
   "source": [
    "## Ejercicio 6\n",
    "Tres variables"
   ]
  },
  {
   "cell_type": "code",
   "execution_count": null,
   "id": "10e38448-8dca-4f9e-826e-71194c98839d",
   "metadata": {},
   "outputs": [],
   "source": [
    "\n",
    "import pandas as pd\n",
    "import matplotlib.pyplot as plt\n",
    "import seaborn as sns\n",
    "\n",
    "# Agrupar los datos por mes y país, calculando el monto total de transacciones por mes\n",
    "grouped_data = dataset.groupby(['Mes', 'country'])['amount'].sum().reset_index()\n",
    "\n",
    "sns.lineplot(data=grouped_data, x='Mes', y='amount', hue='country', marker='o', palette='viridis')\n",
    "\n",
    "plt.title('Total de transacciones a través del Tiempo por País')\n",
    "plt.xlabel('Fecha (Mes y Año)')\n",
    "plt.ylabel('Monto de Transacciones (USD)')\n",
    "plt.legend(title='País', loc='upper right')\n",
    "plt.tight_layout() \n",
    "\n",
    "plt.show()"
   ]
  },
  {
   "cell_type": "markdown",
   "id": "997f8202-70e1-4171-9198-f71bb371d446",
   "metadata": {},
   "source": [
    "## Ejercicio 7\n",
    "Pairplot"
   ]
  },
  {
   "cell_type": "code",
   "execution_count": null,
   "id": "c59970e2-04c8-4aa5-95b3-5fa56569d165",
   "metadata": {},
   "outputs": [],
   "source": [
    "# El código siguiente, que crea un dataframe y quita las filas duplicadas, siempre se ejecuta y actúa como un preámbulo del script: \n",
    "\n",
    "# dataset = pandas.DataFrame(amount, price_usd, weight, id, product_id, transaction_id, id.1)\n",
    "# dataset = dataset.drop_duplicates()\n",
    "\n",
    "# Pegue o escriba aquí el código de script:\n",
    "import matplotlib.pyplot as plt\n",
    "import pandas as pd\n",
    "import seaborn as sns\n",
    "\n",
    "# Crear un pairplot para 'amount' y 'country'\n",
    "\n",
    "sns.pairplot(data=dataset, vars=['price_usd','weight'],diag_kind='kde', kind='reg')\n",
    "# Título y etiquetas\n",
    "plt.suptitle('Relación entre Precio y Peso de Productos en Transacciones', y=1)  # Ajusta 'y' según sea necesario\n",
    "plt.subplots_adjust(top=0.9)  # Ajusta el espacio superior para que el título no se superponga\n",
    "\n",
    "plt.show();"
   ]
  }
 ],
 "metadata": {
  "kernelspec": {
   "display_name": "Python 3 (ipykernel)",
   "language": "python",
   "name": "python3"
  },
  "language_info": {
   "codemirror_mode": {
    "name": "ipython",
    "version": 3
   },
   "file_extension": ".py",
   "mimetype": "text/x-python",
   "name": "python",
   "nbconvert_exporter": "python",
   "pygments_lexer": "ipython3",
   "version": "3.12.4"
  }
 },
 "nbformat": 4,
 "nbformat_minor": 5
}
