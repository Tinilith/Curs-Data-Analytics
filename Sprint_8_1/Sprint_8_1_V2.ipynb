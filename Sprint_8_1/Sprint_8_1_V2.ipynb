{
 "cells": [
  {
   "cell_type": "markdown",
   "id": "eb207fd3-cb8c-4b6b-a0fd-e037ebec20b6",
   "metadata": {},
   "source": [
    "# Tasca S8.01. Visualitzacions en Python"
   ]
  },
  {
   "cell_type": "markdown",
   "id": "9469ae4f-e35a-4196-82d5-c3975a7b02d4",
   "metadata": {},
   "source": [
    "## Nivell 1\n",
    "\n",
    "Realitza la connexió en Python amb el MySQL Workbench per a carregar tota la informació que tens en les taules.\n",
    "\n",
    "Realitzaràs una visualització per a cada exercici. Comenta el que et crida l'atenció de graficar aquesta variable, justifica l'elecció del gràfic i interpreta els resultats en funció de les teves dades."
   ]
  },
  {
   "cell_type": "code",
   "execution_count": null,
   "id": "9132f05f-e38a-408a-bb2d-c4edfde55a59",
   "metadata": {},
   "outputs": [],
   "source": [
    "users"
   ]
  },
  {
   "cell_type": "markdown",
   "id": "9689e4dc-8068-44c1-a4aa-7773c5320f74",
   "metadata": {},
   "source": [
    "Ahora vamos a comprobar que los datos sean correctos"
   ]
  },
  {
   "cell_type": "code",
   "execution_count": null,
   "id": "1bd2467a-e01d-484d-a956-ceb21af3e236",
   "metadata": {},
   "outputs": [],
   "source": [
    "# Mostramos las primeras filas de cada DataFrame\n",
    "print(\"Transactions:\")\n",
    "print(transactions.head())\n",
    "\n",
    "print(\"\\nProducts:\")\n",
    "print(products.head())\n",
    "\n",
    "print(\"\\nUsers:\")\n",
    "print(users.head())\n",
    "\n",
    "print(\"\\nCredit Cards:\")\n",
    "print(credit_cards.head())\n",
    "\n",
    "print(\"\\nCompanies:\")\n",
    "print(companies.head())\n",
    "\n",
    "print(\"\\nTransaction Products:\")\n",
    "print(transaction_products.head())\n",
    "\n",
    "# Verificar tipos de datos y nulos\n",
    "print(\"\\nTipos de datos y nulos:\")\n",
    "print(transactions.info())\n",
    "print(products.info())\n",
    "print(users.info())\n",
    "print(credit_cards.info())\n",
    "print(companies.info())\n",
    "print(transaction_products.info())\n"
   ]
  },
  {
   "cell_type": "code",
   "execution_count": null,
   "id": "bcb20035-8913-4b23-a19c-d28a431818cc",
   "metadata": {},
   "outputs": [],
   "source": [
    "import seaborn as sns\n",
    "\n",
    "sns.countplot(data=transactions, x='declined')"
   ]
  }
 ],
 "metadata": {
  "kernelspec": {
   "display_name": "Python 3 (ipykernel)",
   "language": "python",
   "name": "python3"
  },
  "language_info": {
   "codemirror_mode": {
    "name": "ipython",
    "version": 3
   },
   "file_extension": ".py",
   "mimetype": "text/x-python",
   "name": "python",
   "nbconvert_exporter": "python",
   "pygments_lexer": "ipython3",
   "version": "3.12.4"
  }
 },
 "nbformat": 4,
 "nbformat_minor": 5
}
